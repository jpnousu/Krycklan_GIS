{
 "cells": [
  {
   "cell_type": "code",
   "execution_count": 1,
   "id": "f0815cd0-b933-4aaf-bf1c-67716e82f85e",
   "metadata": {},
   "outputs": [
    {
     "name": "stdout",
     "output_type": "stream",
     "text": [
      "Found 14 ASC file types to mosaic: ['ManuallyDigitizedDitchesKrycklan.asc', 'LAI_pine.asc', 'twi_dinf.asc', 'channels.asc', 'canopy_fraction.asc', 'cmask.asc', '5haStreams.asc', 'twi_d8.asc', 'LAI_decid.asc', 'lake_mask.asc', 'dem_clip_culv_fill_streams.asc', 'krycklan_QD_J1_J2_final.asc', 'LAI_spruce.asc', 'canopy_height.asc']\n",
      "\n",
      "▶ Mosaicing ManuallyDigitizedDitchesKrycklan.asc ...\n",
      "  ✅ Saved mosaic to /Users/jpnousu/Krycklan_GIS_data/20m/ALL/ManuallyDigitizedDitchesKrycklan.asc\n",
      "\n",
      "▶ Mosaicing LAI_pine.asc ...\n",
      "  ✅ Saved mosaic to /Users/jpnousu/Krycklan_GIS_data/20m/ALL/LAI_pine.asc\n",
      "\n",
      "▶ Mosaicing twi_dinf.asc ...\n",
      "  ✅ Saved mosaic to /Users/jpnousu/Krycklan_GIS_data/20m/ALL/twi_dinf.asc\n",
      "\n",
      "▶ Mosaicing channels.asc ...\n",
      "  ✅ Saved mosaic to /Users/jpnousu/Krycklan_GIS_data/20m/ALL/channels.asc\n",
      "\n",
      "▶ Mosaicing canopy_fraction.asc ...\n",
      "  ✅ Saved mosaic to /Users/jpnousu/Krycklan_GIS_data/20m/ALL/canopy_fraction.asc\n",
      "\n",
      "▶ Mosaicing cmask.asc ...\n",
      "  ✅ Saved mosaic to /Users/jpnousu/Krycklan_GIS_data/20m/ALL/cmask.asc\n",
      "\n",
      "▶ Mosaicing 5haStreams.asc ...\n",
      "  ✅ Saved mosaic to /Users/jpnousu/Krycklan_GIS_data/20m/ALL/5haStreams.asc\n",
      "\n",
      "▶ Mosaicing twi_d8.asc ...\n",
      "  ✅ Saved mosaic to /Users/jpnousu/Krycklan_GIS_data/20m/ALL/twi_d8.asc\n",
      "\n",
      "▶ Mosaicing LAI_decid.asc ...\n",
      "  ✅ Saved mosaic to /Users/jpnousu/Krycklan_GIS_data/20m/ALL/LAI_decid.asc\n",
      "\n",
      "▶ Mosaicing lake_mask.asc ...\n",
      "  ✅ Saved mosaic to /Users/jpnousu/Krycklan_GIS_data/20m/ALL/lake_mask.asc\n",
      "\n",
      "▶ Mosaicing dem_clip_culv_fill_streams.asc ...\n",
      "  ✅ Saved mosaic to /Users/jpnousu/Krycklan_GIS_data/20m/ALL/dem_clip_culv_fill_streams.asc\n",
      "\n",
      "▶ Mosaicing krycklan_QD_J1_J2_final.asc ...\n",
      "  ✅ Saved mosaic to /Users/jpnousu/Krycklan_GIS_data/20m/ALL/krycklan_QD_J1_J2_final.asc\n",
      "\n",
      "▶ Mosaicing LAI_spruce.asc ...\n",
      "  ✅ Saved mosaic to /Users/jpnousu/Krycklan_GIS_data/20m/ALL/LAI_spruce.asc\n",
      "\n",
      "▶ Mosaicing canopy_height.asc ...\n",
      "  ✅ Saved mosaic to /Users/jpnousu/Krycklan_GIS_data/20m/ALL/canopy_height.asc\n"
     ]
    }
   ],
   "source": []
  },
  {
   "cell_type": "code",
   "execution_count": null,
   "id": "f1cd6ead-39d1-49ff-9844-0d131fffdf98",
   "metadata": {},
   "outputs": [],
   "source": []
  }
 ],
 "metadata": {
  "kernelspec": {
   "display_name": "Python 3 (ipykernel)",
   "language": "python",
   "name": "python3"
  },
  "language_info": {
   "codemirror_mode": {
    "name": "ipython",
    "version": 3
   },
   "file_extension": ".py",
   "mimetype": "text/x-python",
   "name": "python",
   "nbconvert_exporter": "python",
   "pygments_lexer": "ipython3",
   "version": "3.11.13"
  }
 },
 "nbformat": 4,
 "nbformat_minor": 5
}
