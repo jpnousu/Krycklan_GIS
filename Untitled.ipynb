{
 "cells": [
  {
   "cell_type": "code",
   "execution_count": 2,
   "id": "1edc805a-bc44-4f81-9a93-a1575699ee76",
   "metadata": {},
   "outputs": [
    {
     "data": {
      "image/png": "[encoded data removed]",
      "text/plain": [
       "<Figure size 600x600 with 1 Axes>"
      ]
     },
     "metadata": {},
     "output_type": "display_data"
    }
   ],
   "source": [
    "import matplotlib.pyplot as plt\n",
    "import numpy as np\n",
    "\n",
    "# Grid size\n",
    "rows, cols = 10, 10\n",
    "\n",
    "# Create coordinates\n",
    "x = np.linspace(-1, 1, cols)\n",
    "y = np.linspace(1, -1, rows)\n",
    "X, Y = np.meshgrid(x, y)\n",
    "\n",
    "# Distance to bottom center (0, -1)\n",
    "dist_center = np.sqrt(X**2 + (Y + 1)**2)\n",
    "\n",
    "# Distance to nearest top corner (for whitening effect)\n",
    "dist_corner = np.minimum(\n",
    "    np.sqrt((X - 1)**2 + (Y - 1)**2),\n",
    "    np.sqrt((X + 1)**2 + (Y - 1)**2)\n",
    ")\n",
    "\n",
    "# Combine the two influences:\n",
    "#   - Close to bottom center → whiter\n",
    "#   - Close to top corners   → slightly whiter\n",
    "Z = dist_center + 0.5 * dist_corner\n",
    "\n",
    "# Invert so \"low distance\" = high values (blue) and far = low values (white)\n",
    "Z = Z.max() - Z\n",
    "\n",
    "# Normalize to [0, 1]\n",
    "Z_norm = (Z - Z.min()) / (Z.max() - Z.min())\n",
    "\n",
    "# Plot each cell individually with its explicit color\n",
    "fig, ax = plt.subplots(figsize=(6, 6))\n",
    "cmap = plt.cm.Blues_r  # Blue = high, White = low\n",
    "\n",
    "for i in range(rows):\n",
    "    for j in range(cols):\n",
    "        color = cmap(Z_norm[i, j])\n",
    "        rect = plt.Rectangle((j, i), 1, 1, facecolor=color, edgecolor='black')\n",
    "        ax.add_patch(rect)\n",
    "\n",
    "ax.set_xlim(0, cols)\n",
    "ax.set_ylim(rows, 0)\n",
    "ax.set_aspect('equal')\n",
    "ax.axis('off')\n",
    "plt.show()"
   ]
  },
  {
   "cell_type": "code",
   "execution_count": null,
   "id": "f23c17eb-a0c2-4f81-a548-cce5bd2b2bb4",
   "metadata": {},
   "outputs": [],
   "source": []
  }
 ],
 "metadata": {
  "kernelspec": {
   "display_name": "Python 3 (ipykernel)",
   "language": "python",
   "name": "python3"
  },
  "language_info": {
   "codemirror_mode": {
    "name": "ipython",
    "version": 3
   },
   "file_extension": ".py",
   "mimetype": "text/x-python",
   "name": "python",
   "nbconvert_exporter": "python",
   "pygments_lexer": "ipython3",
   "version": "3.11.13"
  }
 },
 "nbformat": 4,
 "nbformat_minor": 5
}
