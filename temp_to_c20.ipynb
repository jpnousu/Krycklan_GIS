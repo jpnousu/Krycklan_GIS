{
 "cells": [
  {
   "cell_type": "code",
   "execution_count": 1,
   "id": "b8437eb3-c643-4bce-bf5c-7eb827cf7216",
   "metadata": {},
   "outputs": [],
   "source": [
    "import rasterio\n",
    "from rasterio.mask import mask\n",
    "\n",
    "# Paths\n",
    "dem_hr_path = '/Users/jpnousu/Library/CloudStorage/OneDrive-Valtion/Krycklan data/GIS/DEM/Krycklan_2015_DEM_0.5m/Krycklan_2015_DEM_cleaned.tif'\n",
    "clip_raster_path = '/Users/jpnousu/Krycklan_GIS_data/20m/C20/dem_clip.tif'\n",
    "output_path = '/Users/jpnousu/Library/CloudStorage/OneDrive-Valtion/Krycklan data/GIS/DEM/Krycklan_2015_DEM_0.5m/Krycklan_2015_DEM_cleaned_C20.tif'\n",
    "\n",
    "# Open the clip raster to get its geometry\n",
    "with rasterio.open(clip_raster_path) as clip_src:\n",
    "    clip_bounds = clip_src.bounds\n",
    "    clip_crs = clip_src.crs\n",
    "\n",
    "# Open the high-res DEM\n",
    "with rasterio.open(dem_hr_path) as dem_src:\n",
    "    # Ensure the CRS matches\n",
    "    if dem_src.crs != clip_crs:\n",
    "        raise ValueError(\"CRS of DEM and clip raster do not match!\")\n",
    "\n",
    "    # Define bounding box geometry as a GeoJSON-like dict\n",
    "    from shapely.geometry import box\n",
    "    import geopandas as gpd\n",
    "\n",
    "    bbox_geom = box(*clip_bounds)\n",
    "    bbox_gdf = gpd.GeoDataFrame({'geometry': [bbox_geom]}, crs=clip_crs)\n",
    "    geoms = [feature[\"geometry\"] for feature in bbox_gdf.__geo_interface__[\"features\"]]\n",
    "\n",
    "    # Mask and crop DEM\n",
    "    out_image, out_transform = mask(dem_src, geoms, crop=True)\n",
    "    out_meta = dem_src.meta.copy()\n",
    "    out_meta.update({\n",
    "        \"driver\": \"GTiff\",\n",
    "        \"height\": out_image.shape[1],\n",
    "        \"width\": out_image.shape[2],\n",
    "        \"transform\": out_transform\n",
    "    })\n",
    "\n",
    "# Save clipped and masked DEM\n",
    "with rasterio.open(output_path, \"w\", **out_meta) as dest:\n",
    "    dest.write(out_image)"
   ]
  },
  {
   "cell_type": "code",
   "execution_count": null,
   "id": "51908a42-a26f-417d-9014-4f8fd89f5d56",
   "metadata": {},
   "outputs": [],
   "source": []
  }
 ],
 "metadata": {
  "kernelspec": {
   "display_name": "Python 3 (ipykernel)",
   "language": "python",
   "name": "python3"
  },
  "language_info": {
   "codemirror_mode": {
    "name": "ipython",
    "version": 3
   },
   "file_extension": ".py",
   "mimetype": "text/x-python",
   "name": "python",
   "nbconvert_exporter": "python",
   "pygments_lexer": "ipython3",
   "version": "3.11.13"
  }
 },
 "nbformat": 4,
 "nbformat_minor": 5
}
