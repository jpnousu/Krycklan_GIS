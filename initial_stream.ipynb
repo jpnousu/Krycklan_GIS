{
 "cells": [
  {
   "cell_type": "code",
   "execution_count": 1,
   "id": "1ccab858-fa18-4e28-9b5c-e91023945bd9",
   "metadata": {},
   "outputs": [
    {
     "name": "stdout",
     "output_type": "stream",
     "text": [
      "✅ Merged shapefile saved: /Users/jpnousu/Library/CloudStorage/OneDrive-Valtion/Krycklan data/GIS/CATCHMENTS/ManualStreams/PROCESSED/5haStreams_ManuallyDigitizedDitchesKrycklan_merged_5.shp\n"
     ]
    },
    {
     "name": "stderr",
     "output_type": "stream",
     "text": [
      "/Users/jpnousu/miniconda3/envs/wbt/lib/python3.11/site-packages/pyogrio/raw.py:723: RuntimeWarning: Normalized/laundered field name: 'arcid' to 'arcid_1'\n",
      "  ogr_write(\n",
      "/Users/jpnousu/miniconda3/envs/wbt/lib/python3.11/site-packages/pyogrio/raw.py:723: RuntimeWarning: Field created_da create as date field, though DateTime requested.\n",
      "  ogr_write(\n",
      "/Users/jpnousu/miniconda3/envs/wbt/lib/python3.11/site-packages/pyogrio/raw.py:723: RuntimeWarning: Field last_edite create as date field, though DateTime requested.\n",
      "  ogr_write(\n"
     ]
    }
   ],
   "source": [
    "import geopandas as gpd\n",
    "from shapely.ops import split\n",
    "from shapely.geometry import LineString, MultiLineString\n",
    "import pandas as pd\n",
    "\n",
    "buffer = 5\n",
    "\n",
    "streams_fp = '/Users/jpnousu/Library/CloudStorage/OneDrive-Valtion/Krycklan data/GIS/CATCHMENTS/Krycklan_5ha_streams/5haStreams.shp'\n",
    "manual_fp = '/Users/jpnousu/Library/CloudStorage/OneDrive-Valtion/Krycklan data/GIS/CATCHMENTS/ManualStreams/ManuallyDigitizedDitchesKrycklan.shp'\n",
    "out_fp = f'/Users/jpnousu/Library/CloudStorage/OneDrive-Valtion/Krycklan data/GIS/CATCHMENTS/ManualStreams/PROCESSED/5haStreams_ManuallyDigitizedDitchesKrycklan_merged_{buffer}.shp'\n",
    "\n",
    "# Load shapefiles\n",
    "gdf_streams = gpd.read_file(streams_fp)\n",
    "gdf_manual = gpd.read_file(manual_fp)\n",
    "\n",
    "# Ensure same CRS\n",
    "gdf_manual = gdf_manual.to_crs(gdf_streams.crs)\n",
    "\n",
    "# --- Harmonize attribute column ---\n",
    "# If manual shapefile has 'GRID_CODE', rename it to 'VALUE'\n",
    "if 'GRID_CODE' in gdf_manual.columns:\n",
    "    gdf_manual = gdf_manual.rename(columns={'GRID_CODE': 'VALUE'})\n",
    "if 'GRID_CODE' in gdf_streams.columns:\n",
    "    gdf_streams = gdf_streams.rename(columns={'GRID_CODE': 'VALUE'})\n",
    "\n",
    "# Buffer the 5ha streams to catch near-overlaps\n",
    "gdf_streams_buffer = gdf_streams.copy()\n",
    "gdf_streams_buffer['geometry'] = gdf_streams_buffer.geometry.buffer(buffer)\n",
    "\n",
    "# Function to remove overlapping segments\n",
    "def remove_overlaps(line, buffered_streams):\n",
    "    result = [line]\n",
    "    for buf in buffered_streams.geometry:\n",
    "        temp = []\n",
    "        for seg in result:\n",
    "            if seg.intersects(buf):\n",
    "                diff = seg.difference(buf)\n",
    "                # difference may return MultiLineString or LineString\n",
    "                if diff.is_empty:\n",
    "                    continue\n",
    "                elif isinstance(diff, LineString):\n",
    "                    temp.append(diff)\n",
    "                elif isinstance(diff, MultiLineString):\n",
    "                    temp.extend(diff.geoms)\n",
    "            else:\n",
    "                temp.append(seg)\n",
    "        result = temp\n",
    "    return result\n",
    "\n",
    "# Apply to manual lines\n",
    "manual_cleaned = []\n",
    "for idx, row in gdf_manual.iterrows():\n",
    "    non_overlap_segments = remove_overlaps(row.geometry, gdf_streams_buffer)\n",
    "    for seg in non_overlap_segments:\n",
    "        if seg.length > 0:  # discard tiny fragments if needed\n",
    "            manual_cleaned.append({'geometry': seg, **row.drop('geometry')})\n",
    "\n",
    "manual_gdf = gpd.GeoDataFrame(manual_cleaned, crs=gdf_manual.crs)\n",
    "\n",
    "# Combine with 5haStreams\n",
    "merged_gdf = pd.concat([gdf_streams, manual_gdf], ignore_index=True)\n",
    "merged_gdf = gpd.GeoDataFrame(merged_gdf, crs=gdf_streams.crs)\n",
    "\n",
    "# Save\n",
    "merged_gdf.to_file(out_fp)\n",
    "print(f\"✅ Merged shapefile saved: {out_fp}\")"
   ]
  },
  {
   "cell_type": "code",
   "execution_count": 2,
   "id": "16cc12cb-be8b-436e-bb1a-8c21770b6cb4",
   "metadata": {},
   "outputs": [
    {
     "name": "stdout",
     "output_type": "stream",
     "text": [
      "✅ Rasterized /Users/jpnousu/Library/CloudStorage/OneDrive-Valtion/Krycklan data/GIS/CATCHMENTS/ManualStreams/PROCESSED/5haStreams_ManuallyDigitizedDitchesKrycklan_merged_5.shp using VALUE -> /Users/jpnousu/Library/CloudStorage/OneDrive-Valtion/Krycklan data/GIS/CATCHMENTS/ManualStreams/PROCESSED/5haStreams_ManuallyDigitizedDitchesKrycklan_merged_5_0.5m.tif\n",
      "✅ Rasterized /Users/jpnousu/Library/CloudStorage/OneDrive-Valtion/Krycklan data/GIS/CATCHMENTS/Krycklan_5ha_streams/5haStreams.shp using GRID_CODE -> /Users/jpnousu/Library/CloudStorage/OneDrive-Valtion/Krycklan data/GIS/CATCHMENTS/Krycklan_5ha_streams/5haStreams_0.5m.tif\n"
     ]
    }
   ],
   "source": [
    "import tools  # your custom GIS functions\n",
    "import os\n",
    "\n",
    "dem_path = r'/Users/jpnousu/Library/CloudStorage/OneDrive-Valtion/Krycklan data/GIS/DEM/Krycklan_2015_DEM_0.5m/Krycklan_2015_DEM_cleaned.tif'\n",
    "\n",
    "streams_fp = [\n",
    "    r'/Users/jpnousu/Library/CloudStorage/OneDrive-Valtion/Krycklan data/GIS/CATCHMENTS/ManualStreams/PROCESSED/5haStreams_ManuallyDigitizedDitchesKrycklan_merged_5.shp',\n",
    "    r'/Users/jpnousu/Library/CloudStorage/OneDrive-Valtion/Krycklan data/GIS/CATCHMENTS/Krycklan_5ha_streams/5haStreams.shp'\n",
    "]\n",
    "\n",
    "burn_fields = ['VALUE', 'GRID_CODE']\n",
    "\n",
    "for stream_file, burn_field in zip(streams_fp, burn_fields):\n",
    "    base_name = os.path.splitext(os.path.basename(stream_file))[0]\n",
    "    out_fp = os.path.join(os.path.dirname(stream_file), f'{base_name}_0.5m.tif')\n",
    "    \n",
    "    tools.rasterize_shapefile(\n",
    "        shapefile=stream_file,\n",
    "        burn_field=burn_field,  # use the corresponding attribute\n",
    "        subset=None,\n",
    "        out_fp=out_fp,\n",
    "        ref_raster=dem_path,\n",
    "        plot=False,\n",
    "        save_in='tif'\n",
    "    )\n",
    "    \n",
    "    print(f\"✅ Rasterized {stream_file} using {burn_field} -> {out_fp}\")"
   ]
  },
  {
   "cell_type": "code",
   "execution_count": 3,
   "id": "3b28ba44-9d66-4a8f-a6bb-87fb55ae6b9e",
   "metadata": {},
   "outputs": [
    {
     "name": "stdout",
     "output_type": "stream",
     "text": [
      "✅ Rasterized /Users/jpnousu/Library/CloudStorage/OneDrive-Valtion/Krycklan data/GIS/CATCHMENTS/ManualStreams/PROCESSED/5haStreams_ManuallyDigitizedDitchesKrycklan_merged_5.shp using VALUE -> /Users/jpnousu/Library/CloudStorage/OneDrive-Valtion/Krycklan data/GIS/CATCHMENTS/ManualStreams/PROCESSED/5haStreams_ManuallyDigitizedDitchesKrycklan_merged_5_0.5m.tif\n",
      "✅ Saved DEM elevations at stream locations -> /Users/jpnousu/Library/CloudStorage/OneDrive-Valtion/Krycklan data/GIS/CATCHMENTS/ManualStreams/PROCESSED/5haStreams_ManuallyDigitizedDitchesKrycklan_merged_5_0.5m_elev.tif\n",
      "✅ Rasterized /Users/jpnousu/Library/CloudStorage/OneDrive-Valtion/Krycklan data/GIS/CATCHMENTS/Krycklan_5ha_streams/5haStreams.shp using GRID_CODE -> /Users/jpnousu/Library/CloudStorage/OneDrive-Valtion/Krycklan data/GIS/CATCHMENTS/Krycklan_5ha_streams/5haStreams_0.5m.tif\n",
      "✅ Saved DEM elevations at stream locations -> /Users/jpnousu/Library/CloudStorage/OneDrive-Valtion/Krycklan data/GIS/CATCHMENTS/Krycklan_5ha_streams/5haStreams_0.5m_elev.tif\n"
     ]
    }
   ],
   "source": [
    "import tools  # your custom GIS functions\n",
    "import os\n",
    "import rasterio\n",
    "import numpy as np\n",
    "\n",
    "dem_path = r'/Users/jpnousu/Library/CloudStorage/OneDrive-Valtion/Krycklan data/GIS/DEM/Krycklan_2015_DEM_0.5m/Krycklan_2015_DEM_cleaned.tif'\n",
    "\n",
    "streams_fp = [\n",
    "    r'/Users/jpnousu/Library/CloudStorage/OneDrive-Valtion/Krycklan data/GIS/CATCHMENTS/ManualStreams/PROCESSED/5haStreams_ManuallyDigitizedDitchesKrycklan_merged_5.shp',\n",
    "    r'/Users/jpnousu/Library/CloudStorage/OneDrive-Valtion/Krycklan data/GIS/CATCHMENTS/Krycklan_5ha_streams/5haStreams.shp'\n",
    "]\n",
    "\n",
    "burn_fields = ['VALUE', 'GRID_CODE']\n",
    "\n",
    "for stream_file, burn_field in zip(streams_fp, burn_fields):\n",
    "    base_name = os.path.splitext(os.path.basename(stream_file))[0]\n",
    "    mask_fp = os.path.join(os.path.dirname(stream_file), f'{base_name}_0.5m.tif')\n",
    "    elev_fp = os.path.join(os.path.dirname(stream_file), f'{base_name}_0.5m_elev.tif')\n",
    "\n",
    "    # Step 1: Rasterize the shapefile\n",
    "    tools.rasterize_shapefile(\n",
    "        shapefile=stream_file,\n",
    "        burn_field=burn_field,  # use the corresponding attribute\n",
    "        subset=None,\n",
    "        out_fp=mask_fp,\n",
    "        ref_raster=dem_path,\n",
    "        plot=False,\n",
    "        save_in='tif'\n",
    "    )\n",
    "    print(f\"✅ Rasterized {stream_file} using {burn_field} -> {mask_fp}\")\n",
    "\n",
    "    # Step 2: Read DEM and rasterized mask\n",
    "    with rasterio.open(dem_path) as dem_src, rasterio.open(mask_fp) as mask_src:\n",
    "        dem = dem_src.read(1)\n",
    "        mask = mask_src.read(1)\n",
    "        meta = mask_src.meta\n",
    "\n",
    "        nodata_val = -9999  # define nodata for elevation raster\n",
    "        #print(nodata_val)\n",
    "\n",
    "        # Step 3: Assign DEM elevations only where mask is 1\n",
    "        elev_raster = np.full_like(dem, nodata_val, dtype=np.float32)\n",
    "        elev_raster[mask == 1] = dem[mask == 1]\n",
    "\n",
    "        # Step 4: Prepare metadata for elevation raster\n",
    "        elev_meta = mask_src.meta.copy()\n",
    "        elev_meta.update(dtype=rasterio.float32, nodata=nodata_val)\n",
    "\n",
    "    # Step 5: Save elevation raster\n",
    "    with rasterio.open(elev_fp, 'w', **elev_meta) as dst:\n",
    "        dst.write(elev_raster, 1)\n",
    "\n",
    "    print(f\"✅ Saved DEM elevations at stream locations -> {elev_fp}\")"
   ]
  },
  {
   "cell_type": "code",
   "execution_count": null,
   "id": "1921edea-3fd2-4096-a528-328f6e196546",
   "metadata": {},
   "outputs": [],
   "source": []
  }
 ],
 "metadata": {
  "kernelspec": {
   "display_name": "Python 3 (ipykernel)",
   "language": "python",
   "name": "python3"
  },
  "language_info": {
   "codemirror_mode": {
    "name": "ipython",
    "version": 3
   },
   "file_extension": ".py",
   "mimetype": "text/x-python",
   "name": "python",
   "nbconvert_exporter": "python",
   "pygments_lexer": "ipython3",
   "version": "3.11.13"
  }
 },
 "nbformat": 4,
 "nbformat_minor": 5
}
