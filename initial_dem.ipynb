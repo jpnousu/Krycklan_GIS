{
 "cells": [
  {
   "cell_type": "code",
   "execution_count": 8,
   "id": "3b95395b-6ce4-4dbc-84e7-ae8b364dc5bf",
   "metadata": {},
   "outputs": [],
   "source": [
    "import os\n",
    "import rasterio\n",
    "import numpy as np\n",
    "from rasterio.fill import fillnodata\n",
    "import tools\n",
    "import matplotlib.pyplot as plt\n",
    "import geopandas as gpd\n",
    "import pandas as pd"
   ]
  },
  {
   "cell_type": "code",
   "execution_count": 2,
   "id": "c1cfa2d1-6c8c-43fa-8d8b-490cf94d8804",
   "metadata": {},
   "outputs": [],
   "source": [
    "# INPUT/OUTPUT\n",
    "dem_original_fp = '/Users/jpnousu/Library/CloudStorage/OneDrive-Valtion/Krycklan data/GIS/DEM/Krycklan_2015_DEM_0.5m/Krycklan_2015_DEM.tif'\n",
    "cleaned_dem_fp = '/Users/jpnousu/Library/CloudStorage/OneDrive-Valtion/Krycklan data/GIS/DEM/Krycklan_2015_DEM_0.5m/Krycklan_2015_DEM_cleaned.tif'"
   ]
  },
  {
   "cell_type": "code",
   "execution_count": 3,
   "id": "c74e3265-4a5c-45fe-b620-03044fc495f7",
   "metadata": {},
   "outputs": [],
   "source": [
    "with rasterio.open(dem_original_fp) as src:\n",
    "    data1 = src.read(1)\n",
    "    meta1 = src.meta\n",
    "with rasterio.open(cleaned_dem_fp) as src:\n",
    "    data2 = src.read(1)\n",
    "    meta2 = src.meta"
   ]
  },
  {
   "cell_type": "code",
   "execution_count": 4,
   "id": "bad9f62e-9250-4f77-a07e-9a88534863be",
   "metadata": {},
   "outputs": [
    {
     "name": "stdout",
     "output_type": "stream",
     "text": [
      "Cleaned DEM written to: /Users/jpnousu/Library/CloudStorage/OneDrive-Valtion/Krycklan data/GIS/DEM/Krycklan_2015_DEM_0.5m/Krycklan_2015_DEM_cleaned.tif\n"
     ]
    }
   ],
   "source": [
    "# INPUT/OUTPUT\n",
    "dem_original_fp = '/Users/jpnousu/Library/CloudStorage/OneDrive-Valtion/Krycklan data/GIS/DEM/Krycklan_2015_DEM_0.5m/Krycklan_2015_DEM.tif'\n",
    "cleaned_dem_fp = '/Users/jpnousu/Library/CloudStorage/OneDrive-Valtion/Krycklan data/GIS/DEM/Krycklan_2015_DEM_0.5m/Krycklan_2015_DEM_cleaned.tif'\n",
    "\n",
    "# Load original DEM\n",
    "with rasterio.open(dem_original_fp) as src:\n",
    "    profile = src.profile\n",
    "    transform = src.transform\n",
    "    arr = src.read(1)\n",
    "    nodata_val = src.nodata if src.nodata is not None else -9999\n",
    "\n",
    "# Step 1: Mask out specific outlier regions (example boxes)\n",
    "boxes = [\n",
    "    ((727842.5, 7136690.9), (728065.4, 7136488.0)),\n",
    "    ((736112.5, 7133787.9), (736277.6, 7133617.0))\n",
    "]\n",
    "\n",
    "for (x1, y1), (x2, y2) in boxes:\n",
    "    row_start, col_start = tools.coords_to_index(transform, x1, y1)\n",
    "    row_end, col_end = tools.coords_to_index(transform, x2, y2)\n",
    "    row_min, row_max = sorted([row_start, row_end])\n",
    "    col_min, col_max = sorted([col_start, col_end])\n",
    "    arr[row_min:row_max+1, col_min:col_max+1] = nodata_val\n",
    "\n",
    "# Step 2: Fill nodata\n",
    "max_search_distance = 25/0.5*5\n",
    "mask_arr = (arr != nodata_val)\n",
    "arr_filled = fillnodata(arr, mask=mask_arr, max_search_distance=max_search_distance, smoothing_iterations=0)\n",
    "\n",
    "# Step 3: Replace zero-values outside mask with nodata\n",
    "arr_filled[(arr_filled == 0.) & (~mask_arr)] = nodata_val\n",
    "\n",
    "# Update metadata\n",
    "profile.update({\n",
    "    'driver': 'GTiff',\n",
    "    'dtype': arr_filled.dtype,\n",
    "    'compress': 'lzw',\n",
    "    'nodata': nodata_val\n",
    "})\n",
    "\n",
    "# Save cleaned DEM\n",
    "with rasterio.open(cleaned_dem_fp, 'w', **profile) as dst:\n",
    "    dst.write(arr_filled, 1)\n",
    "\n",
    "print(f\"Cleaned DEM written to: {cleaned_dem_fp}\")"
   ]
  },
  {
   "cell_type": "markdown",
   "id": "d1587b64-f9b1-411a-b210-cbee8b667fa8",
   "metadata": {},
   "source": [
    "### ROADS TO SHAPEFILES"
   ]
  },
  {
   "cell_type": "code",
   "execution_count": 5,
   "id": "fadd1852-12e1-4c2d-91ad-9f527b067173",
   "metadata": {},
   "outputs": [
    {
     "name": "stdout",
     "output_type": "stream",
     "text": [
      "Processing layer: vaglinje\n"
     ]
    },
    {
     "name": "stderr",
     "output_type": "stream",
     "text": [
      "/Users/jpnousu/Krycklan_GIS/tools.py:169: UserWarning: Column names longer than 10 characters will be truncated when saved to ESRI Shapefile.\n",
      "  clipped.to_file(out_path)\n",
      "/Users/jpnousu/miniconda3/envs/wbt/lib/python3.11/site-packages/pyogrio/raw.py:723: RuntimeWarning: Normalized/laundered field name: 'objektidentitet' to 'objektiden'\n",
      "  ogr_write(\n",
      "/Users/jpnousu/miniconda3/envs/wbt/lib/python3.11/site-packages/pyogrio/raw.py:723: RuntimeWarning: Field skapad create as date field, though DateTime requested.\n",
      "  ogr_write(\n",
      "/Users/jpnousu/miniconda3/envs/wbt/lib/python3.11/site-packages/pyogrio/raw.py:723: RuntimeWarning: Normalized/laundered field name: 'objekttypnr' to 'objekttypn'\n",
      "  ogr_write(\n",
      "/Users/jpnousu/miniconda3/envs/wbt/lib/python3.11/site-packages/pyogrio/raw.py:723: RuntimeWarning: Normalized/laundered field name: 'avfartsvag_pafartsvag' to 'avfartsvag'\n",
      "  ogr_write(\n",
      "/Users/jpnousu/miniconda3/envs/wbt/lib/python3.11/site-packages/pyogrio/raw.py:723: RuntimeWarning: Normalized/laundered field name: 'cirkulationsplats' to 'cirkulatio'\n",
      "  ogr_write(\n",
      "/Users/jpnousu/miniconda3/envs/wbt/lib/python3.11/site-packages/pyogrio/raw.py:723: RuntimeWarning: Normalized/laundered field name: 'bro_och_tunnel' to 'bro_och_tu'\n",
      "  ogr_write(\n",
      "/Users/jpnousu/miniconda3/envs/wbt/lib/python3.11/site-packages/pyogrio/raw.py:723: RuntimeWarning: Normalized/laundered field name: 'industrivag' to 'industriva'\n",
      "  ogr_write(\n",
      "/Users/jpnousu/miniconda3/envs/wbt/lib/python3.11/site-packages/pyogrio/raw.py:723: RuntimeWarning: Normalized/laundered field name: 'vardvagnummer' to 'vardvagnum'\n",
      "  ogr_write(\n",
      "/Users/jpnousu/miniconda3/envs/wbt/lib/python3.11/site-packages/pyogrio/raw.py:723: RuntimeWarning: Normalized/laundered field name: 'gastvag1nummer' to 'gastvag1nu'\n",
      "  ogr_write(\n",
      "/Users/jpnousu/miniconda3/envs/wbt/lib/python3.11/site-packages/pyogrio/raw.py:723: RuntimeWarning: Normalized/laundered field name: 'gastvag2nummer' to 'gastvag2nu'\n",
      "  ogr_write(\n",
      "/Users/jpnousu/miniconda3/envs/wbt/lib/python3.11/site-packages/pyogrio/raw.py:723: RuntimeWarning: Normalized/laundered field name: 'alternativt_manér' to 'alternativ'\n",
      "  ogr_write(\n"
     ]
    },
    {
     "name": "stdout",
     "output_type": "stream",
     "text": [
      "Saved clipped shapefile to: /Users/jpnousu/Library/CloudStorage/OneDrive-Valtion/Krycklan data/GIS/TOPOGRAFI_50/shapefiles/vaglinje.shp\n",
      "Processing layer: ovrig_vag\n",
      "Saved clipped shapefile to: /Users/jpnousu/Library/CloudStorage/OneDrive-Valtion/Krycklan data/GIS/TOPOGRAFI_50/shapefiles/ovrig_vag.shp\n",
      "Processing layer: ralstrafik\n",
      "Saved clipped shapefile to: /Users/jpnousu/Library/CloudStorage/OneDrive-Valtion/Krycklan data/GIS/TOPOGRAFI_50/shapefiles/ralstrafik.shp\n"
     ]
    },
    {
     "name": "stderr",
     "output_type": "stream",
     "text": [
      "/Users/jpnousu/Krycklan_GIS/tools.py:169: UserWarning: Column names longer than 10 characters will be truncated when saved to ESRI Shapefile.\n",
      "  clipped.to_file(out_path)\n",
      "/Users/jpnousu/miniconda3/envs/wbt/lib/python3.11/site-packages/pyogrio/raw.py:723: RuntimeWarning: Normalized/laundered field name: 'objektidentitet' to 'objektiden'\n",
      "  ogr_write(\n",
      "/Users/jpnousu/miniconda3/envs/wbt/lib/python3.11/site-packages/pyogrio/raw.py:723: RuntimeWarning: Field skapad create as date field, though DateTime requested.\n",
      "  ogr_write(\n",
      "/Users/jpnousu/miniconda3/envs/wbt/lib/python3.11/site-packages/pyogrio/raw.py:723: RuntimeWarning: Normalized/laundered field name: 'objekttypnr' to 'objekttypn'\n",
      "  ogr_write(\n",
      "/Users/jpnousu/miniconda3/envs/wbt/lib/python3.11/site-packages/pyogrio/raw.py:723: RuntimeWarning: Normalized/laundered field name: 'vagutforande' to 'vagutforan'\n",
      "  ogr_write(\n",
      "/Users/jpnousu/miniconda3/envs/wbt/lib/python3.11/site-packages/pyogrio/raw.py:723: RuntimeWarning: Normalized/laundered field name: 'skoterkorning_tillaten' to 'skoterkorn'\n",
      "  ogr_write(\n",
      "/Users/jpnousu/miniconda3/envs/wbt/lib/python3.11/site-packages/pyogrio/raw.py:723: RuntimeWarning: Normalized/laundered field name: 'ruskmarkering' to 'ruskmarker'\n",
      "  ogr_write(\n",
      "/Users/jpnousu/miniconda3/envs/wbt/lib/python3.11/site-packages/pyogrio/raw.py:723: RuntimeWarning: Normalized/laundered field name: 'alternativt_manér' to 'alternativ'\n",
      "  ogr_write(\n",
      "/Users/jpnousu/Krycklan_GIS/tools.py:169: UserWarning: Column names longer than 10 characters will be truncated when saved to ESRI Shapefile.\n",
      "  clipped.to_file(out_path)\n",
      "/Users/jpnousu/miniconda3/envs/wbt/lib/python3.11/site-packages/pyogrio/raw.py:723: RuntimeWarning: Normalized/laundered field name: 'objektidentitet' to 'objektiden'\n",
      "  ogr_write(\n",
      "/Users/jpnousu/miniconda3/envs/wbt/lib/python3.11/site-packages/pyogrio/raw.py:723: RuntimeWarning: Field skapad create as date field, though DateTime requested.\n",
      "  ogr_write(\n",
      "/Users/jpnousu/miniconda3/envs/wbt/lib/python3.11/site-packages/pyogrio/raw.py:723: RuntimeWarning: Normalized/laundered field name: 'objekttypnr' to 'objekttypn'\n",
      "  ogr_write(\n",
      "/Users/jpnousu/miniconda3/envs/wbt/lib/python3.11/site-packages/pyogrio/raw.py:723: RuntimeWarning: Normalized/laundered field name: 'bro_och_tunnel' to 'bro_och_tu'\n",
      "  ogr_write(\n",
      "/Users/jpnousu/miniconda3/envs/wbt/lib/python3.11/site-packages/pyogrio/raw.py:723: RuntimeWarning: Normalized/laundered field name: 'under_byggnad' to 'under_bygg'\n",
      "  ogr_write(\n"
     ]
    }
   ],
   "source": [
    "gpkg_file = r'/Users/jpnousu/Library/CloudStorage/OneDrive-Valtion/Krycklan data/GIS/TOPOGRAFI_50/kommunikation_ln24.gpkg'\n",
    "ref_fp = r'/Users/jpnousu/Library/CloudStorage/OneDrive-Valtion/Krycklan data/GIS/SLU_FOREST_MAP_KRYCKLAN/2010/BIRCHVOL_XX_P_10.asc'\n",
    "out_dir = r'/Users/jpnousu/Library/CloudStorage/OneDrive-Valtion/Krycklan data/GIS/TOPOGRAFI_50/shapefiles'\n",
    "tools.extract_and_clip_gpkg_layers(gpkg_file=gpkg_file, ref_raster=ref_fp, out_dir=out_dir)"
   ]
  },
  {
   "cell_type": "code",
   "execution_count": 9,
   "id": "47ff19f9-3eac-4ab4-b9fb-603ab4aa8bc0",
   "metadata": {},
   "outputs": [
    {
     "name": "stderr",
     "output_type": "stream",
     "text": [
      "/Users/jpnousu/miniconda3/envs/wbt/lib/python3.11/site-packages/pyogrio/raw.py:723: RuntimeWarning: Field skapad create as date field, though DateTime requested.\n",
      "  ogr_write(\n"
     ]
    }
   ],
   "source": [
    "# List of shapefile paths to combine\n",
    "shapefiles = [\n",
    "    '/Users/jpnousu/Library/CloudStorage/OneDrive-Valtion/Krycklan data/GIS/TOPOGRAFI_50/shapefiles/vaglinje.shp',\n",
    "    '/Users/jpnousu/Library/CloudStorage/OneDrive-Valtion/Krycklan data/GIS/TOPOGRAFI_50/shapefiles/ralstrafik.shp',\n",
    "    '/Users/jpnousu/Library/CloudStorage/OneDrive-Valtion/Krycklan data/GIS/TOPOGRAFI_50/shapefiles/ovrig_vag.shp'\n",
    "]\n",
    "\n",
    "# Read and concatenate them\n",
    "gdfs = [gpd.read_file(fp) for fp in shapefiles]\n",
    "combined = gpd.GeoDataFrame(pd.concat(gdfs, ignore_index=True), crs=gdfs[0].crs)\n",
    "\n",
    "# Save the combined shapefile\n",
    "combined.to_file('/Users/jpnousu/Library/CloudStorage/OneDrive-Valtion/Krycklan data/GIS/TOPOGRAFI_50/shapefiles/combined_roads.shp')"
   ]
  },
  {
   "cell_type": "code",
   "execution_count": 10,
   "id": "23c33e11-ccee-47b4-9ec7-b8047186b5de",
   "metadata": {},
   "outputs": [
    {
     "name": "stdout",
     "output_type": "stream",
     "text": [
      "Saved: /Users/jpnousu/Library/CloudStorage/OneDrive-Valtion/Krycklan data/GIS/CATCHMENTS/Krycklan_catchments/split_catchments/catchment_1.shp\n",
      "Saved: /Users/jpnousu/Library/CloudStorage/OneDrive-Valtion/Krycklan data/GIS/CATCHMENTS/Krycklan_catchments/split_catchments/catchment_2.shp\n",
      "Saved: /Users/jpnousu/Library/CloudStorage/OneDrive-Valtion/Krycklan data/GIS/CATCHMENTS/Krycklan_catchments/split_catchments/catchment_3.shp\n",
      "Saved: /Users/jpnousu/Library/CloudStorage/OneDrive-Valtion/Krycklan data/GIS/CATCHMENTS/Krycklan_catchments/split_catchments/catchment_4.shp\n",
      "Saved: /Users/jpnousu/Library/CloudStorage/OneDrive-Valtion/Krycklan data/GIS/CATCHMENTS/Krycklan_catchments/split_catchments/catchment_5.shp\n",
      "Saved: /Users/jpnousu/Library/CloudStorage/OneDrive-Valtion/Krycklan data/GIS/CATCHMENTS/Krycklan_catchments/split_catchments/catchment_6.shp\n",
      "Saved: /Users/jpnousu/Library/CloudStorage/OneDrive-Valtion/Krycklan data/GIS/CATCHMENTS/Krycklan_catchments/split_catchments/catchment_7.shp\n",
      "Saved: /Users/jpnousu/Library/CloudStorage/OneDrive-Valtion/Krycklan data/GIS/CATCHMENTS/Krycklan_catchments/split_catchments/catchment_8.shp\n",
      "Saved: /Users/jpnousu/Library/CloudStorage/OneDrive-Valtion/Krycklan data/GIS/CATCHMENTS/Krycklan_catchments/split_catchments/catchment_9.shp\n",
      "Saved: /Users/jpnousu/Library/CloudStorage/OneDrive-Valtion/Krycklan data/GIS/CATCHMENTS/Krycklan_catchments/split_catchments/catchment_10.shp\n",
      "Saved: /Users/jpnousu/Library/CloudStorage/OneDrive-Valtion/Krycklan data/GIS/CATCHMENTS/Krycklan_catchments/split_catchments/catchment_12.shp\n",
      "Saved: /Users/jpnousu/Library/CloudStorage/OneDrive-Valtion/Krycklan data/GIS/CATCHMENTS/Krycklan_catchments/split_catchments/catchment_13.shp\n",
      "Saved: /Users/jpnousu/Library/CloudStorage/OneDrive-Valtion/Krycklan data/GIS/CATCHMENTS/Krycklan_catchments/split_catchments/catchment_14.shp\n",
      "Saved: /Users/jpnousu/Library/CloudStorage/OneDrive-Valtion/Krycklan data/GIS/CATCHMENTS/Krycklan_catchments/split_catchments/catchment_15.shp\n",
      "Saved: /Users/jpnousu/Library/CloudStorage/OneDrive-Valtion/Krycklan data/GIS/CATCHMENTS/Krycklan_catchments/split_catchments/catchment_16.shp\n",
      "Saved: /Users/jpnousu/Library/CloudStorage/OneDrive-Valtion/Krycklan data/GIS/CATCHMENTS/Krycklan_catchments/split_catchments/catchment_20.shp\n",
      "Saved: /Users/jpnousu/Library/CloudStorage/OneDrive-Valtion/Krycklan data/GIS/CATCHMENTS/Krycklan_catchments/split_catchments/catchment_21.shp\n",
      "Saved: /Users/jpnousu/Library/CloudStorage/OneDrive-Valtion/Krycklan data/GIS/CATCHMENTS/Krycklan_catchments/split_catchments/catchment_22.shp\n"
     ]
    }
   ],
   "source": [
    "# Input shapefile\n",
    "input_fp = r\"/Users/jpnousu/Library/CloudStorage/OneDrive-Valtion/Krycklan data/GIS/CATCHMENTS/Krycklan_catchments/Krycklan catchments.shp\"\n",
    "\n",
    "# Output folder\n",
    "output_dir = os.path.join(os.path.dirname(input_fp), \"split_catchments\")\n",
    "os.makedirs(output_dir, exist_ok=True)\n",
    "\n",
    "# Read shapefile\n",
    "gdf = gpd.read_file(input_fp)\n",
    "\n",
    "# Group by the 'Huvudomr' field and write each group to a separate shapefile\n",
    "for catchment_id, catchment_gdf in gdf.groupby(\"Huvudomr\"):\n",
    "    out_fp = os.path.join(output_dir, f\"catchment_{int(catchment_id)}.shp\")\n",
    "    catchment_gdf.to_file(out_fp)\n",
    "    print(f\"Saved: {out_fp}\")"
   ]
  },
  {
   "cell_type": "code",
   "execution_count": null,
   "id": "78bd0cdc-35d5-478e-abbd-f49f32d49c81",
   "metadata": {},
   "outputs": [],
   "source": []
  }
 ],
 "metadata": {
  "kernelspec": {
   "display_name": "Python 3 (ipykernel)",
   "language": "python",
   "name": "python3"
  },
  "language_info": {
   "codemirror_mode": {
    "name": "ipython",
    "version": 3
   },
   "file_extension": ".py",
   "mimetype": "text/x-python",
   "name": "python",
   "nbconvert_exporter": "python",
   "pygments_lexer": "ipython3",
   "version": "3.11.13"
  }
 },
 "nbformat": 4,
 "nbformat_minor": 5
}
