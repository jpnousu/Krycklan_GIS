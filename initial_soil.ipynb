{
 "cells": [
  {
   "cell_type": "code",
   "execution_count": 1,
   "id": "d56baaf5-7a97-41c8-be3d-d4016ad45390",
   "metadata": {},
   "outputs": [],
   "source": [
    "import geopandas as gpd\n",
    "import rasterio\n",
    "import tools\n",
    "import numpy as np"
   ]
  },
  {
   "cell_type": "markdown",
   "id": "1016522c-59b3-48a1-9a45-0f6f1be8b3f0",
   "metadata": {},
   "source": [
    "### SOIL MAP (FROM ANNELI)"
   ]
  },
  {
   "cell_type": "code",
   "execution_count": 2,
   "id": "1acc6609-24ab-465a-892a-5470b232025b",
   "metadata": {},
   "outputs": [
    {
     "name": "stdout",
     "output_type": "stream",
     "text": [
      "{np.int64(100): 'Morän', np.int64(84): 'Postglacial sand--grus', np.int64(89): 'Svallsediment, grus--block', np.int64(75): 'Torv', np.int64(50): 'Isälvssediment', np.int64(86): 'Lera--silt', np.int64(200): 'Fyllning', np.int64(31): 'Postglacial sand', np.int64(8809): 'Älvsediment, sand', np.int64(91): 'Vatten', np.int64(888): 'Berg'}\n"
     ]
    }
   ],
   "source": [
    "file1= r'/Users/jpnousu/Library/CloudStorage/OneDrive-Valtion/Krycklan data/GIS/SOIL/krycklan_QD/krycklan_QD_J1.shp'\n",
    "file2 = r'/Users/jpnousu/Library/CloudStorage/OneDrive-Valtion/Krycklan data/GIS/SOIL/krycklan_QD/krycklan_QD_J2.shp'\n",
    "\n",
    "df1 = gpd.read_file(file1)\n",
    "df2 = gpd.read_file(file2)\n",
    "codes = {}\n",
    "for id in df1['JY1'].unique():\n",
    "    codes[id] = df1.loc[df1['JY1'] == id, 'JY1_TX'].iloc[0]\n",
    "for id in df2['JG2'].unique():\n",
    "    codes[id] = df2.loc[df2['JG2'] == id, 'JG2_TX'].iloc[0]\n",
    "print(codes)"
   ]
  },
  {
   "cell_type": "code",
   "execution_count": 3,
   "id": "44d4d64d-df59-4ef0-b14d-f910a9e67994",
   "metadata": {},
   "outputs": [],
   "source": [
    "resos = [20, 40, 80, 160]\n",
    "id = 0\n",
    "for reso in resos:\n",
    "    id += 1\n",
    "    # Reference file path\n",
    "    ref_fp = f'/Users/jpnousu/Library/CloudStorage/OneDrive-Valtion/Krycklan data/GIS/FOREST_BASIC_KRYCKLAN/processed/canopy_height_{reso}.asc'\n",
    "    out_fp1 = f'/Users/jpnousu/Library/CloudStorage/OneDrive-Valtion/Krycklan data/GIS/SOIL/krycklan_QD/krycklan_QD_J1_{reso}.asc'\n",
    "    out_fp2 = f'/Users/jpnousu/Library/CloudStorage/OneDrive-Valtion/Krycklan data/GIS/SOIL/krycklan_QD/krycklan_QD_J2_{reso}.asc'\n",
    "    out_fp3 = f'/Users/jpnousu/Library/CloudStorage/OneDrive-Valtion/Krycklan data/GIS/SOIL/krycklan_QD/krycklan_QD_J1_J2_{reso}.asc'\n",
    "    out_fp4 = f'/Users/jpnousu/Library/CloudStorage/OneDrive-Valtion/Krycklan data/GIS/SOIL/krycklan_QD/lake_mask_{reso}.asc'\n",
    "    out_fp5 = f'/Users/jpnousu/Library/CloudStorage/OneDrive-Valtion/Krycklan data/GIS/SOIL/krycklan_QD/krycklan_QD_J1_J2_final_{reso}.asc'\n",
    "\n",
    "    tools.rasterize_shapefile(shapefile=file1, burn_field='JY1', subset=None, out_fp=out_fp1, ref_raster=ref_fp, plot=False, save_in='asc')\n",
    "    tools.rasterize_shapefile(shapefile=file2, burn_field='JG2', subset=None, out_fp=out_fp2, ref_raster=ref_fp, plot=False, save_in='asc')\n",
    "    tools.fill_layer_na_with_layer(priority_layer=out_fp1, secondary_layer=out_fp2, out_fp=out_fp3, save_in='asc')\n",
    "    \n",
    "    with rasterio.open(out_fp3) as src:\n",
    "        data = src.read(1)\n",
    "        meta = src.meta.copy()\n",
    "        new_data = data.copy()\n",
    "        new_data[data != 91.0] = meta['nodata']\n",
    "        new_data[data == 91.0] = 1.0\n",
    "    with rasterio.open(out_fp4, 'w', **meta) as dst:\n",
    "        out = dst.write(new_data, 1)\n",
    "\n",
    "    with rasterio.open(out_fp3) as src:\n",
    "        data = src.read(1)\n",
    "        new_data = data.copy()\n",
    "        meta = src.meta.copy()\n",
    "        nodata = meta['nodata']\n",
    "        if id == 1:\n",
    "            orig_uniq = np.unique(data[data != nodata])\n",
    "            new_uniq = np.arange(1, len(orig_uniq)+1)\n",
    "        for i in range(len(orig_uniq)):\n",
    "            new_data[data == orig_uniq[i]] = new_uniq[i] \n",
    "    with rasterio.open(out_fp5, 'w', **meta) as dst:\n",
    "        out = dst.write(new_data, 1)"
   ]
  },
  {
   "cell_type": "code",
   "execution_count": null,
   "id": "5471686d-5073-48da-8962-198d8ecf2f2a",
   "metadata": {},
   "outputs": [],
   "source": []
  }
 ],
 "metadata": {
  "kernelspec": {
   "display_name": "Python 3 (ipykernel)",
   "language": "python",
   "name": "python3"
  },
  "language_info": {
   "codemirror_mode": {
    "name": "ipython",
    "version": 3
   },
   "file_extension": ".py",
   "mimetype": "text/x-python",
   "name": "python",
   "nbconvert_exporter": "python",
   "pygments_lexer": "ipython3",
   "version": "3.11.13"
  }
 },
 "nbformat": 4,
 "nbformat_minor": 5
}
